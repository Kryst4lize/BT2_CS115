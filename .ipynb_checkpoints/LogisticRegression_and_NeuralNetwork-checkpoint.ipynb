{
 "cells": [
  {
   "cell_type": "markdown",
   "metadata": {
    "id": "JI8UIvkh5IQz"
   },
   "source": [
    "### MNIST Dataset"
   ]
  },
  {
   "cell_type": "code",
   "execution_count": 18,
   "metadata": {
    "id": "JP7PLCNyyv3T"
   },
   "outputs": [],
   "source": [
    "import torch\n",
    "from torch.utils.data import DataLoader\n",
    "import torchvision.datasets as datasets\n",
    "import torchvision.transforms as transforms"
   ]
  },
  {
   "cell_type": "code",
   "execution_count": 19,
   "metadata": {
    "id": "uIUOXFZyMU7K"
   },
   "outputs": [],
   "source": [
    "train_dataset = datasets.MNIST(root='/content/drive/MyDrive/CSBU014.N11.KHBC/Logistic_Regression/datasets',\n",
    "                               train=True,\n",
    "                               transform=transforms.ToTensor(),\n",
    "                               download=True)"
   ]
  },
  {
   "cell_type": "code",
   "execution_count": 20,
   "metadata": {
    "id": "PznFK2cMqrvM"
   },
   "outputs": [],
   "source": [
    "test_dataset = datasets.MNIST(root='/content/drive/MyDrive/CSBU014.N11.KHBC/Logistic_Regression/datasets',\n",
    "                              train=False,\n",
    "                              transform=transforms.ToTensor(),\n",
    "                              download=True)"
   ]
  },
  {
   "cell_type": "code",
   "execution_count": 21,
   "metadata": {
    "colab": {
     "base_uri": "https://localhost:8080/"
    },
    "id": "ycdjLugEgSIx",
    "outputId": "a3c02cf6-f337-4e7b-a628-76850e98d03b"
   },
   "outputs": [
    {
     "data": {
      "text/plain": [
       "(tensor([[[0.0000, 0.0000, 0.0000, 0.0000, 0.0000, 0.0000, 0.0000, 0.0000,\n",
       "           0.0000, 0.0000, 0.0000, 0.0000, 0.0000, 0.0000, 0.0000, 0.0000,\n",
       "           0.0000, 0.0000, 0.0000, 0.0000, 0.0000, 0.0000, 0.0000, 0.0000,\n",
       "           0.0000, 0.0000, 0.0000, 0.0000],\n",
       "          [0.0000, 0.0000, 0.0000, 0.0000, 0.0000, 0.0000, 0.0000, 0.0000,\n",
       "           0.0000, 0.0000, 0.0000, 0.0000, 0.0000, 0.0000, 0.0000, 0.0000,\n",
       "           0.0000, 0.0000, 0.0000, 0.0000, 0.0000, 0.0000, 0.0000, 0.0000,\n",
       "           0.0000, 0.0000, 0.0000, 0.0000],\n",
       "          [0.0000, 0.0000, 0.0000, 0.0000, 0.0000, 0.0000, 0.0000, 0.0000,\n",
       "           0.0000, 0.0000, 0.0000, 0.0000, 0.0000, 0.0000, 0.0000, 0.0000,\n",
       "           0.0000, 0.0000, 0.0000, 0.0000, 0.0000, 0.0000, 0.0000, 0.0000,\n",
       "           0.0000, 0.0000, 0.0000, 0.0000],\n",
       "          [0.0000, 0.0000, 0.0000, 0.0000, 0.0000, 0.0000, 0.0000, 0.0000,\n",
       "           0.0000, 0.0000, 0.0000, 0.0000, 0.0000, 0.0000, 0.0000, 0.0000,\n",
       "           0.0000, 0.0000, 0.0000, 0.0000, 0.0000, 0.0000, 0.0000, 0.0000,\n",
       "           0.0000, 0.0000, 0.0000, 0.0000],\n",
       "          [0.0000, 0.0000, 0.0000, 0.0000, 0.0000, 0.0000, 0.0000, 0.0000,\n",
       "           0.0000, 0.0000, 0.0000, 0.0000, 0.0000, 0.0000, 0.0000, 0.0000,\n",
       "           0.0000, 0.0000, 0.0000, 0.0000, 0.0000, 0.0000, 0.0000, 0.0000,\n",
       "           0.0000, 0.0000, 0.0000, 0.0000],\n",
       "          [0.0000, 0.0000, 0.0000, 0.0000, 0.0000, 0.0000, 0.0000, 0.0000,\n",
       "           0.0000, 0.0000, 0.0000, 0.0000, 0.0000, 0.0000, 0.0000, 0.0000,\n",
       "           0.0000, 0.0000, 0.0000, 0.0000, 0.2627, 0.9098, 0.1529, 0.0000,\n",
       "           0.0000, 0.0000, 0.0000, 0.0000],\n",
       "          [0.0000, 0.0000, 0.0000, 0.0000, 0.2431, 0.3176, 0.0000, 0.0000,\n",
       "           0.0000, 0.0000, 0.0000, 0.0000, 0.0000, 0.0000, 0.0000, 0.0000,\n",
       "           0.0000, 0.0000, 0.0000, 0.0000, 0.4706, 0.7059, 0.1529, 0.0000,\n",
       "           0.0000, 0.0000, 0.0000, 0.0000],\n",
       "          [0.0000, 0.0000, 0.0000, 0.0000, 0.4941, 0.6392, 0.0000, 0.0000,\n",
       "           0.0000, 0.0000, 0.0000, 0.0000, 0.0000, 0.0000, 0.0000, 0.0000,\n",
       "           0.0000, 0.0000, 0.0000, 0.0078, 0.6000, 0.8235, 0.1569, 0.0000,\n",
       "           0.0000, 0.0000, 0.0000, 0.0000],\n",
       "          [0.0000, 0.0000, 0.0000, 0.0000, 0.8627, 0.6392, 0.0000, 0.0000,\n",
       "           0.0000, 0.0000, 0.0000, 0.0000, 0.0000, 0.0000, 0.0000, 0.0000,\n",
       "           0.0000, 0.0000, 0.0000, 0.1059, 0.9961, 0.6353, 0.0000, 0.0000,\n",
       "           0.0000, 0.0000, 0.0000, 0.0000],\n",
       "          [0.0000, 0.0000, 0.0000, 0.0000, 0.8706, 0.6392, 0.0000, 0.0000,\n",
       "           0.0000, 0.0000, 0.0000, 0.0000, 0.0000, 0.0000, 0.0000, 0.0000,\n",
       "           0.0000, 0.0000, 0.0000, 0.7176, 0.9961, 0.4902, 0.0000, 0.0000,\n",
       "           0.0000, 0.0000, 0.0000, 0.0000],\n",
       "          [0.0000, 0.0000, 0.0000, 0.1804, 0.9608, 0.6392, 0.0000, 0.0000,\n",
       "           0.0000, 0.0000, 0.0000, 0.0000, 0.0000, 0.0000, 0.0000, 0.0000,\n",
       "           0.0000, 0.0000, 0.0000, 0.7765, 0.9961, 0.2196, 0.0000, 0.0000,\n",
       "           0.0000, 0.0000, 0.0000, 0.0000],\n",
       "          [0.0000, 0.0000, 0.0000, 0.4706, 0.9961, 0.6392, 0.0000, 0.0000,\n",
       "           0.0000, 0.0000, 0.0000, 0.0000, 0.0000, 0.0000, 0.0000, 0.0000,\n",
       "           0.0000, 0.0000, 0.0902, 0.9059, 0.9961, 0.1137, 0.0000, 0.0000,\n",
       "           0.0000, 0.0000, 0.0000, 0.0000],\n",
       "          [0.0000, 0.0000, 0.0000, 0.6235, 0.9961, 0.4706, 0.0000, 0.0000,\n",
       "           0.0000, 0.0000, 0.0000, 0.0000, 0.0000, 0.0000, 0.0000, 0.0000,\n",
       "           0.0000, 0.0000, 0.6392, 0.9961, 0.8471, 0.0627, 0.0000, 0.0000,\n",
       "           0.0000, 0.0000, 0.0000, 0.0000],\n",
       "          [0.0000, 0.0000, 0.0000, 0.6235, 0.9961, 0.2627, 0.0000, 0.0000,\n",
       "           0.0000, 0.0000, 0.0000, 0.0000, 0.0000, 0.0000, 0.0000, 0.0549,\n",
       "           0.3373, 0.6980, 0.9725, 0.9961, 0.3569, 0.0000, 0.0000, 0.0000,\n",
       "           0.0000, 0.0000, 0.0000, 0.0000],\n",
       "          [0.0000, 0.0000, 0.0000, 0.6235, 0.9961, 0.3333, 0.0000, 0.0000,\n",
       "           0.0000, 0.1843, 0.1922, 0.4549, 0.5647, 0.5882, 0.9451, 0.9529,\n",
       "           0.9176, 0.7020, 0.9451, 0.9882, 0.1569, 0.0000, 0.0000, 0.0000,\n",
       "           0.0000, 0.0000, 0.0000, 0.0000],\n",
       "          [0.0000, 0.0000, 0.0000, 0.5882, 0.9922, 0.9294, 0.8118, 0.8118,\n",
       "           0.8118, 0.9922, 0.9961, 0.9804, 0.9412, 0.7765, 0.5608, 0.3569,\n",
       "           0.1098, 0.0196, 0.9137, 0.9804, 0.0000, 0.0000, 0.0000, 0.0000,\n",
       "           0.0000, 0.0000, 0.0000, 0.0000],\n",
       "          [0.0000, 0.0000, 0.0000, 0.0000, 0.4667, 0.6941, 0.6941, 0.6941,\n",
       "           0.6941, 0.6941, 0.3843, 0.2196, 0.0000, 0.0000, 0.0000, 0.0000,\n",
       "           0.0000, 0.4000, 0.9961, 0.8627, 0.0000, 0.0000, 0.0000, 0.0000,\n",
       "           0.0000, 0.0000, 0.0000, 0.0000],\n",
       "          [0.0000, 0.0000, 0.0000, 0.0000, 0.0000, 0.0000, 0.0000, 0.0000,\n",
       "           0.0000, 0.0000, 0.0000, 0.0000, 0.0000, 0.0000, 0.0000, 0.0000,\n",
       "           0.0000, 0.6627, 0.9961, 0.5373, 0.0000, 0.0000, 0.0000, 0.0000,\n",
       "           0.0000, 0.0000, 0.0000, 0.0000],\n",
       "          [0.0000, 0.0000, 0.0000, 0.0000, 0.0000, 0.0000, 0.0000, 0.0000,\n",
       "           0.0000, 0.0000, 0.0000, 0.0000, 0.0000, 0.0000, 0.0000, 0.0000,\n",
       "           0.0000, 0.6627, 0.9961, 0.2235, 0.0000, 0.0000, 0.0000, 0.0000,\n",
       "           0.0000, 0.0000, 0.0000, 0.0000],\n",
       "          [0.0000, 0.0000, 0.0000, 0.0000, 0.0000, 0.0000, 0.0000, 0.0000,\n",
       "           0.0000, 0.0000, 0.0000, 0.0000, 0.0000, 0.0000, 0.0000, 0.0000,\n",
       "           0.0000, 0.6627, 0.9961, 0.2235, 0.0000, 0.0000, 0.0000, 0.0000,\n",
       "           0.0000, 0.0000, 0.0000, 0.0000],\n",
       "          [0.0000, 0.0000, 0.0000, 0.0000, 0.0000, 0.0000, 0.0000, 0.0000,\n",
       "           0.0000, 0.0000, 0.0000, 0.0000, 0.0000, 0.0000, 0.0000, 0.0000,\n",
       "           0.0000, 0.6627, 1.0000, 0.3686, 0.0000, 0.0000, 0.0000, 0.0000,\n",
       "           0.0000, 0.0000, 0.0000, 0.0000],\n",
       "          [0.0000, 0.0000, 0.0000, 0.0000, 0.0000, 0.0000, 0.0000, 0.0000,\n",
       "           0.0000, 0.0000, 0.0000, 0.0000, 0.0000, 0.0000, 0.0000, 0.0000,\n",
       "           0.0000, 0.6627, 0.9961, 0.3765, 0.0000, 0.0000, 0.0000, 0.0000,\n",
       "           0.0000, 0.0000, 0.0000, 0.0000],\n",
       "          [0.0000, 0.0000, 0.0000, 0.0000, 0.0000, 0.0000, 0.0000, 0.0000,\n",
       "           0.0000, 0.0000, 0.0000, 0.0000, 0.0000, 0.0000, 0.0000, 0.0000,\n",
       "           0.0000, 0.6627, 0.9961, 0.6000, 0.0000, 0.0000, 0.0000, 0.0000,\n",
       "           0.0000, 0.0000, 0.0000, 0.0000],\n",
       "          [0.0000, 0.0000, 0.0000, 0.0000, 0.0000, 0.0000, 0.0000, 0.0000,\n",
       "           0.0000, 0.0000, 0.0000, 0.0000, 0.0000, 0.0000, 0.0000, 0.0000,\n",
       "           0.0000, 0.6627, 1.0000, 0.6000, 0.0000, 0.0000, 0.0000, 0.0000,\n",
       "           0.0000, 0.0000, 0.0000, 0.0000],\n",
       "          [0.0000, 0.0000, 0.0000, 0.0000, 0.0000, 0.0000, 0.0000, 0.0000,\n",
       "           0.0000, 0.0000, 0.0000, 0.0000, 0.0000, 0.0000, 0.0000, 0.0000,\n",
       "           0.0000, 0.3765, 0.9961, 0.6000, 0.0000, 0.0000, 0.0000, 0.0000,\n",
       "           0.0000, 0.0000, 0.0000, 0.0000],\n",
       "          [0.0000, 0.0000, 0.0000, 0.0000, 0.0000, 0.0000, 0.0000, 0.0000,\n",
       "           0.0000, 0.0000, 0.0000, 0.0000, 0.0000, 0.0000, 0.0000, 0.0000,\n",
       "           0.0000, 0.0000, 0.0000, 0.0000, 0.0000, 0.0000, 0.0000, 0.0000,\n",
       "           0.0000, 0.0000, 0.0000, 0.0000],\n",
       "          [0.0000, 0.0000, 0.0000, 0.0000, 0.0000, 0.0000, 0.0000, 0.0000,\n",
       "           0.0000, 0.0000, 0.0000, 0.0000, 0.0000, 0.0000, 0.0000, 0.0000,\n",
       "           0.0000, 0.0000, 0.0000, 0.0000, 0.0000, 0.0000, 0.0000, 0.0000,\n",
       "           0.0000, 0.0000, 0.0000, 0.0000],\n",
       "          [0.0000, 0.0000, 0.0000, 0.0000, 0.0000, 0.0000, 0.0000, 0.0000,\n",
       "           0.0000, 0.0000, 0.0000, 0.0000, 0.0000, 0.0000, 0.0000, 0.0000,\n",
       "           0.0000, 0.0000, 0.0000, 0.0000, 0.0000, 0.0000, 0.0000, 0.0000,\n",
       "           0.0000, 0.0000, 0.0000, 0.0000]]]),\n",
       " 4)"
      ]
     },
     "execution_count": 21,
     "metadata": {},
     "output_type": "execute_result"
    }
   ],
   "source": [
    "train_dataset[2]"
   ]
  },
  {
   "cell_type": "code",
   "execution_count": 22,
   "metadata": {
    "id": "5YxLttjnWkAI"
   },
   "outputs": [],
   "source": [
    "import matplotlib.pyplot as plt"
   ]
  },
  {
   "cell_type": "code",
   "execution_count": 23,
   "metadata": {
    "colab": {
     "base_uri": "https://localhost:8080/",
     "height": 282
    },
    "id": "f_cghq9Kl9x3",
    "outputId": "96bf55d0-fdf9-48bd-ee7e-ea1012bbeab2"
   },
   "outputs": [
    {
     "data": {
      "text/plain": [
       "5"
      ]
     },
     "execution_count": 23,
     "metadata": {},
     "output_type": "execute_result"
    },
    {
     "data": {
      "image/png": "[encoded data removed]",
      "text/plain": [
       "<Figure size 640x480 with 1 Axes>"
      ]
     },
     "metadata": {},
     "output_type": "display_data"
    }
   ],
   "source": [
    "plt.imshow(train_dataset[10][0].squeeze(), cmap='gray')\n",
    "train_dataset[100][1]"
   ]
  },
  {
   "cell_type": "code",
   "execution_count": 24,
   "metadata": {
    "id": "YYY1wKteWi-6"
   },
   "outputs": [],
   "source": [
    "import random\n",
    "import numpy as np"
   ]
  },
  {
   "cell_type": "code",
   "execution_count": 25,
   "metadata": {
    "id": "g72Nbha2pGLC"
   },
   "outputs": [],
   "source": [
    "seed = 2411"
   ]
  },
  {
   "cell_type": "code",
   "execution_count": 26,
   "metadata": {
    "id": "Ux1pwHpipCeJ"
   },
   "outputs": [],
   "source": [
    "random.seed(seed)\n",
    "np.random.seed(seed)\n",
    "torch.manual_seed(seed)\n",
    "torch.backends.cudnn.deterministic = True\n",
    "torch.backends.cudnn.benchmark = False"
   ]
  },
  {
   "cell_type": "code",
   "execution_count": 27,
   "metadata": {
    "id": "i9PZApo9ZqrE"
   },
   "outputs": [],
   "source": [
    "train_loader = DataLoader(train_dataset, batch_size=64, shuffle=True)\n",
    "test_loader = DataLoader(test_dataset)"
   ]
  },
  {
   "cell_type": "markdown",
   "metadata": {
    "id": "ULSzbfCXvV6-"
   },
   "source": [
    "### Logistic Regression"
   ]
  },
  {
   "cell_type": "code",
   "execution_count": 28,
   "metadata": {
    "id": "pwtpEHW2bO15"
   },
   "outputs": [],
   "source": [
    "import torch.nn as nn\n",
    "import torch.nn.functional as F"
   ]
  },
  {
   "cell_type": "code",
   "execution_count": 29,
   "metadata": {
    "id": "T4X5BfsQbKrJ"
   },
   "outputs": [],
   "source": [
    "# Implement \"Logistic Regression\" model with PyTorch\n",
    "\n",
    "class LogisticRegression(nn.Module):\n",
    "    # input_dim -> the number of independent variables (attributes)\n",
    "    # output_dim -> the number of (unique) classes for classification (e.g., dog-cat -> 2; car-bicycle-plane -> 3)\n",
    "    def __init__(self, input_dim, output_dim):  \n",
    "        super().__init__()\n",
    "        self.linear = nn.Linear(input_dim, output_dim)\n",
    "        \n",
    "    def forward(self, x):\n",
    "        logits = self.linear(x)\n",
    "        probs = F.softmax(logits, dim=1)\n",
    "        return logits, probs"
   ]
  },
  {
   "cell_type": "code",
   "execution_count": 30,
   "metadata": {
    "id": "1hEhCqsBfWKr"
   },
   "outputs": [],
   "source": [
    "import torch.optim as optim"
   ]
  },
  {
   "cell_type": "code",
   "execution_count": 31,
   "metadata": {},
   "outputs": [
    {
     "data": {
      "text/plain": [
       "False"
      ]
     },
     "execution_count": 31,
     "metadata": {},
     "output_type": "execute_result"
    }
   ],
   "source": [
    "torch.cuda.is_available()"
   ]
  },
  {
   "cell_type": "code",
   "execution_count": null,
   "metadata": {},
   "outputs": [],
   "source": [
    "device = torch.device('cuda' if torch.cuda.is_available() else 'cpu')\n",
    "device"
   ]
  },
  {
   "cell_type": "code",
   "execution_count": 96,
   "metadata": {
    "id": "pZotr39MfQVv"
   },
   "outputs": [],
   "source": [
    "# Design the 'train_model' function for training models\n",
    "# Loss Function: Cross Entropy Loss\n",
    "# Optimizer: SGD\n",
    "\n",
    "def train_model(data_loader, model, init_lr, maxEpoch):\n",
    "    # Loss Function\n",
    "    criterion = nn.CrossEntropyLoss()\n",
    "\n",
    "    # Optimization Algorithm.\n",
    "    # We can use other optimizers such as ADAM, RMSprop, etc.\n",
    "    optimizer = optim.SGD(model.parameters(), lr=init_lr)\n",
    "    \n",
    "    loss_each_epoch = []  # For tracking the trend of loss value\n",
    "    \n",
    "    # Switch model to the training mode\n",
    "    model.train()\n",
    "\n",
    "    for epoch in range(maxEpoch):\n",
    "        sum_loss = 0.0\n",
    "        for (imgs, labels) in data_loader:\n",
    "            # Load data to GPU/CPU\n",
    "            imgs, labels = imgs.to(device), labels.to(device)\n",
    "\n",
    "            # Change to the correct tensor shape\n",
    "            # Our data currently is in the format (batch_size, color_channel, w, h) (64, 1, 28, 28)\n",
    "            # We need to change our data to (batch_size, color_channel * w * h) (64, 1 * 28 * 28)\n",
    "            imgs = imgs.reshape(imgs.shape[0], -1)\n",
    "\n",
    "            # forward pass\n",
    "            logits, _ = model(imgs)  # Feed the training data into the model\n",
    "            loss = criterion(logits, labels)  # Calculate the loss value\n",
    "\n",
    "            # backward pass\n",
    "            optimizer.zero_grad()  # Empty the optimizer\n",
    "            loss.backward()  # Compute the gradient dJ/dw's\n",
    "\n",
    "            optimizer.step()  # Update the model's parameters\n",
    "\n",
    "            sum_loss += loss.item()\n",
    "        loss_each_epoch.append(sum_loss/len(data_loader.dataset))\n",
    "        print(f'Epoch {epoch + 1}/{maxEpoch}, Loss: {loss_each_epoch[-1]:.2f}')\n",
    "    return loss_each_epoch"
   ]
  },
  {
   "cell_type": "code",
   "execution_count": 97,
   "metadata": {
    "colab": {
     "base_uri": "https://localhost:8080/"
    },
    "id": "jGR3cnU5ic6c",
    "outputId": "6a387076-fa0f-432a-ef51-881336717719"
   },
   "outputs": [
    {
     "name": "stdout",
     "output_type": "stream",
     "text": [
      "Epoch 1/20, Loss: 0.03\n",
      "Epoch 2/20, Loss: 0.02\n",
      "Epoch 3/20, Loss: 0.02\n",
      "Epoch 4/20, Loss: 0.02\n",
      "Epoch 5/20, Loss: 0.01\n",
      "Epoch 6/20, Loss: 0.01\n",
      "Epoch 7/20, Loss: 0.01\n",
      "Epoch 8/20, Loss: 0.01\n",
      "Epoch 9/20, Loss: 0.01\n",
      "Epoch 10/20, Loss: 0.01\n",
      "Epoch 11/20, Loss: 0.01\n",
      "Epoch 12/20, Loss: 0.01\n",
      "Epoch 13/20, Loss: 0.01\n",
      "Epoch 14/20, Loss: 0.01\n",
      "Epoch 15/20, Loss: 0.01\n",
      "Epoch 16/20, Loss: 0.01\n",
      "Epoch 17/20, Loss: 0.01\n",
      "Epoch 18/20, Loss: 0.01\n",
      "Epoch 19/20, Loss: 0.01\n",
      "Epoch 20/20, Loss: 0.01\n"
     ]
    }
   ],
   "source": [
    "# Train Logistic Regression model\n",
    "\n",
    "clf_LR = LogisticRegression(input_dim=28 * 28, output_dim=10).to(device)\n",
    "loss_each_epoch_LR = train_model(data_loader=train_loader, model=clf_LR, init_lr=0.001, maxEpoch=20)"
   ]
  },
  {
   "cell_type": "code",
   "execution_count": 98,
   "metadata": {
    "colab": {
     "base_uri": "https://localhost:8080/",
     "height": 295
    },
    "id": "zHjTTzO3ic6c",
    "outputId": "7df840f3-ef7e-4ff3-cdfe-5041086af963"
   },
   "outputs": [
    {
     "data": {
      "image/png": "[encoded data removed]",
      "text/plain": [
       "<Figure size 640x480 with 1 Axes>"
      ]
     },
     "metadata": {},
     "output_type": "display_data"
    }
   ],
   "source": [
    "plt.plot(range(1, len(loss_each_epoch_LR) + 1), loss_each_epoch_LR)\n",
    "plt.xlabel('Epoch')\n",
    "plt.ylabel('Loss')\n",
    "plt.title('LogisticRegression-MNIST')\n",
    "plt.show()"
   ]
  },
  {
   "cell_type": "code",
   "execution_count": 99,
   "metadata": {
    "colab": {
     "base_uri": "https://localhost:8080/"
    },
    "id": "i37bw7CTjEra",
    "outputId": "fd97ac8c-45b1-4a01-910f-dba0158cd566"
   },
   "outputs": [
    {
     "data": {
      "text/plain": [
       "0.007902178134520849"
      ]
     },
     "execution_count": 99,
     "metadata": {},
     "output_type": "execute_result"
    }
   ],
   "source": [
    "loss_each_epoch_LR[-1]"
   ]
  },
  {
   "cell_type": "code",
   "execution_count": 100,
   "metadata": {
    "id": "4Ac_OL87wkO3"
   },
   "outputs": [],
   "source": [
    "# Design the 'model_evaluation' function for evaluating the trained models\n",
    "def model_evaluation(data_loader, model):\n",
    "    nCorrects = 0\n",
    "    model.eval()  # put our model on the evaluation mode\n",
    "\n",
    "    with torch.no_grad():\n",
    "        for (imgs, labels) in data_loader:\n",
    "            imgs, labels = imgs.to(device), labels.to(device)\n",
    "            imgs = imgs.reshape(imgs.shape[0], -1)\n",
    "\n",
    "            # forward\n",
    "            _, probs = model(imgs)\n",
    "            _, y_pred = probs.max(1)\n",
    "            nCorrects += (y_pred == labels).sum()\n",
    "    print(f'We got {nCorrects.item()}/{len(data_loader.dataset)} correct. Accuracy = {nCorrects.item()/len(data_loader.dataset) * 100:.2f}%')"
   ]
  },
  {
   "cell_type": "code",
   "execution_count": 101,
   "metadata": {
    "colab": {
     "base_uri": "https://localhost:8080/"
    },
    "id": "gEzLMsJRyAX_",
    "outputId": "ce4eb120-5ccc-497d-d0b0-f15f5dbe8a76"
   },
   "outputs": [
    {
     "name": "stdout",
     "output_type": "stream",
     "text": [
      "Logistic Regression (Train Accuracy)\n",
      "We got 52431/60000 correct. Accuracy = 87.39%\n"
     ]
    }
   ],
   "source": [
    "print('Logistic Regression (Train Accuracy)')\n",
    "model_evaluation(data_loader=train_loader, model=clf_LR)"
   ]
  },
  {
   "cell_type": "code",
   "execution_count": 102,
   "metadata": {
    "colab": {
     "base_uri": "https://localhost:8080/"
    },
    "id": "RXNug6VYUaSx",
    "outputId": "4479c155-a69d-407b-aab4-3a7c0faea8fc"
   },
   "outputs": [
    {
     "name": "stdout",
     "output_type": "stream",
     "text": [
      "Logistic Regression (Test Accuracy)\n",
      "We got 8839/10000 correct. Accuracy = 88.39%\n"
     ]
    }
   ],
   "source": [
    "print('Logistic Regression (Test Accuracy)')\n",
    "model_evaluation(data_loader=test_loader, model=clf_LR)"
   ]
  },
  {
   "cell_type": "code",
   "execution_count": 103,
   "metadata": {
    "colab": {
     "base_uri": "https://localhost:8080/",
     "height": 273
    },
    "id": "gCrrs6EITLf2",
    "outputId": "4bda20de-3f65-426a-ce53-f675d39e864a"
   },
   "outputs": [
    {
     "data": {
      "image/png": "[encoded data removed]",
      "text/plain": [
       "<Figure size 640x480 with 50 Axes>"
      ]
     },
     "metadata": {},
     "output_type": "display_data"
    }
   ],
   "source": [
    "ROW_IMG, N_ROWS = 10, 5\n",
    "\n",
    "fig = plt.figure()\n",
    "for index in range(1, ROW_IMG * N_ROWS + 1):\n",
    "    plt.subplot(N_ROWS, ROW_IMG, index)\n",
    "    plt.axis('off')\n",
    "    plt.imshow(test_dataset.data[index], cmap='gray_r')\n",
    "    \n",
    "    with torch.no_grad():\n",
    "        clf_LR.eval()\n",
    "        X = test_dataset[index][0].reshape(test_dataset[index][0].shape[0], -1).to(device)\n",
    "        _, probs = clf_LR(X)\n",
    "        \n",
    "    title = f'{torch.argmax(probs)} ({torch.max(probs * 100):.0f}%)'\n",
    "    \n",
    "    plt.title(title, fontsize=7)\n",
    "fig.suptitle('Logistic Regression - predictions')\n",
    "plt.show()"
   ]
  },
  {
   "cell_type": "code",
   "execution_count": 104,
   "metadata": {
    "id": "r_Pm9qpp2Aa5"
   },
   "outputs": [],
   "source": [
    "# Task: Build a MLP model with 6 layers (input layer, ouput layer and 1 hidden layer)\n",
    "# The activation of each node in 'input' layer and 'hidden' layers is ReLU\n",
    "# The input size of each layer:\n",
    "# + Input layer: input_dim\n",
    "# + Hidden layer 1: 100\n",
    "# + Output layer: 25\n",
    "\n",
    "class MLP(nn.Module):\n",
    "    def __init__(self, input_dim, output_dim):\n",
    "        super().__init__()\n",
    "        self.classifier = nn.Sequential(\n",
    "            nn.Linear(input_dim, 100),\n",
    "            nn.ReLU(),\n",
    "            nn.Linear(100, 25),\n",
    "            nn.ReLU(),\n",
    "            nn.Linear(25, output_dim)\n",
    "        )\n",
    "\n",
    "    def forward(self, x):\n",
    "        logits = self.classifier(x)\n",
    "        probs = F.softmax(logits, dim=1)\n",
    "        return logits, probs"
   ]
  },
  {
   "cell_type": "code",
   "execution_count": 105,
   "metadata": {
    "colab": {
     "base_uri": "https://localhost:8080/"
    },
    "id": "uJCl4O0RReP7",
    "outputId": "ab676517-cc03-4694-cf9f-fec13ac67112"
   },
   "outputs": [
    {
     "data": {
      "text/plain": [
       "MLP(\n",
       "  (classifier): Sequential(\n",
       "    (0): Linear(in_features=784, out_features=100, bias=True)\n",
       "    (1): ReLU()\n",
       "    (2): Linear(in_features=100, out_features=25, bias=True)\n",
       "    (3): ReLU()\n",
       "    (4): Linear(in_features=25, out_features=10, bias=True)\n",
       "  )\n",
       ")"
      ]
     },
     "execution_count": 105,
     "metadata": {},
     "output_type": "execute_result"
    }
   ],
   "source": [
    "clf_MLP = MLP(input_dim=28 * 28, output_dim=10).to(device)\n",
    "clf_MLP"
   ]
  },
  {
   "cell_type": "code",
   "execution_count": null,
   "metadata": {
    "colab": {
     "base_uri": "https://localhost:8080/"
    },
    "id": "NxppYY7oTsNM",
    "outputId": "85082866-dbed-4f0a-b747-9bf326b95cea",
    "pycharm": {
     "is_executing": true
    }
   },
   "outputs": [
    {
     "name": "stdout",
     "output_type": "stream",
     "text": [
      "Epoch 1/20, Loss: 0.04\n",
      "Epoch 2/20, Loss: 0.04\n",
      "Epoch 3/20, Loss: 0.03\n",
      "Epoch 4/20, Loss: 0.03\n",
      "Epoch 5/20, Loss: 0.03\n",
      "Epoch 6/20, Loss: 0.03\n",
      "Epoch 7/20, Loss: 0.02\n",
      "Epoch 8/20, Loss: 0.02\n",
      "Epoch 9/20, Loss: 0.02\n",
      "Epoch 10/20, Loss: 0.01\n",
      "Epoch 11/20, Loss: 0.01\n",
      "Epoch 12/20, Loss: 0.01\n",
      "Epoch 13/20, Loss: 0.01\n",
      "Epoch 14/20, Loss: 0.01\n",
      "Epoch 15/20, Loss: 0.01\n",
      "Epoch 16/20, Loss: 0.01\n",
      "Epoch 17/20, Loss: 0.01\n",
      "Epoch 18/20, Loss: 0.01\n"
     ]
    },
    {
     "ename": "KeyboardInterrupt",
     "evalue": "",
     "output_type": "error",
     "traceback": [
      "\u001b[1;31m---------------------------------------------------------------------------\u001b[0m",
      "\u001b[1;31mKeyboardInterrupt\u001b[0m                         Traceback (most recent call last)",
      "Cell \u001b[1;32mIn [106], line 6\u001b[0m\n\u001b[0;32m      1\u001b[0m \u001b[38;5;66;03m# Train MLP model\u001b[39;00m\n\u001b[0;32m      2\u001b[0m \u001b[38;5;66;03m# Input dim = 412 * 233\u001b[39;00m\n\u001b[0;32m      3\u001b[0m \u001b[38;5;66;03m# Output dim = 32\u001b[39;00m\n\u001b[0;32m      4\u001b[0m \u001b[38;5;66;03m# Initial Learning Rate: 0.001\u001b[39;00m\n\u001b[0;32m      5\u001b[0m \u001b[38;5;66;03m# Max Epoch = 20\u001b[39;00m\n\u001b[1;32m----> 6\u001b[0m loss_each_epoch_MLP \u001b[38;5;241m=\u001b[39m \u001b[43mtrain_model\u001b[49m\u001b[43m(\u001b[49m\u001b[43mtrain_loader\u001b[49m\u001b[43m,\u001b[49m\u001b[43m \u001b[49m\u001b[43mclf_MLP\u001b[49m\u001b[43m,\u001b[49m\u001b[43m \u001b[49m\u001b[38;5;241;43m0.001\u001b[39;49m\u001b[43m,\u001b[49m\u001b[43m \u001b[49m\u001b[38;5;241;43m20\u001b[39;49m\u001b[43m)\u001b[49m\n",
      "Cell \u001b[1;32mIn [96], line 35\u001b[0m, in \u001b[0;36mtrain_model\u001b[1;34m(data_loader, model, init_lr, maxEpoch)\u001b[0m\n\u001b[0;32m     33\u001b[0m \u001b[38;5;66;03m# backward pass\u001b[39;00m\n\u001b[0;32m     34\u001b[0m optimizer\u001b[38;5;241m.\u001b[39mzero_grad()  \u001b[38;5;66;03m# Empty the optimizer\u001b[39;00m\n\u001b[1;32m---> 35\u001b[0m \u001b[43mloss\u001b[49m\u001b[38;5;241;43m.\u001b[39;49m\u001b[43mbackward\u001b[49m\u001b[43m(\u001b[49m\u001b[43m)\u001b[49m  \u001b[38;5;66;03m# Compute the gradient dJ/dw's\u001b[39;00m\n\u001b[0;32m     37\u001b[0m optimizer\u001b[38;5;241m.\u001b[39mstep()  \u001b[38;5;66;03m# Update the model's parameters\u001b[39;00m\n\u001b[0;32m     39\u001b[0m sum_loss \u001b[38;5;241m+\u001b[39m\u001b[38;5;241m=\u001b[39m loss\u001b[38;5;241m.\u001b[39mitem()\n",
      "File \u001b[1;32m~\\AppData\\Local\\Programs\\Python\\Python39\\lib\\site-packages\\torch\\_tensor.py:487\u001b[0m, in \u001b[0;36mTensor.backward\u001b[1;34m(self, gradient, retain_graph, create_graph, inputs)\u001b[0m\n\u001b[0;32m    477\u001b[0m \u001b[38;5;28;01mif\u001b[39;00m has_torch_function_unary(\u001b[38;5;28mself\u001b[39m):\n\u001b[0;32m    478\u001b[0m     \u001b[38;5;28;01mreturn\u001b[39;00m handle_torch_function(\n\u001b[0;32m    479\u001b[0m         Tensor\u001b[38;5;241m.\u001b[39mbackward,\n\u001b[0;32m    480\u001b[0m         (\u001b[38;5;28mself\u001b[39m,),\n\u001b[1;32m   (...)\u001b[0m\n\u001b[0;32m    485\u001b[0m         inputs\u001b[38;5;241m=\u001b[39minputs,\n\u001b[0;32m    486\u001b[0m     )\n\u001b[1;32m--> 487\u001b[0m \u001b[43mtorch\u001b[49m\u001b[38;5;241;43m.\u001b[39;49m\u001b[43mautograd\u001b[49m\u001b[38;5;241;43m.\u001b[39;49m\u001b[43mbackward\u001b[49m\u001b[43m(\u001b[49m\n\u001b[0;32m    488\u001b[0m \u001b[43m    \u001b[49m\u001b[38;5;28;43mself\u001b[39;49m\u001b[43m,\u001b[49m\u001b[43m \u001b[49m\u001b[43mgradient\u001b[49m\u001b[43m,\u001b[49m\u001b[43m \u001b[49m\u001b[43mretain_graph\u001b[49m\u001b[43m,\u001b[49m\u001b[43m \u001b[49m\u001b[43mcreate_graph\u001b[49m\u001b[43m,\u001b[49m\u001b[43m \u001b[49m\u001b[43minputs\u001b[49m\u001b[38;5;241;43m=\u001b[39;49m\u001b[43minputs\u001b[49m\n\u001b[0;32m    489\u001b[0m \u001b[43m\u001b[49m\u001b[43m)\u001b[49m\n",
      "File \u001b[1;32m~\\AppData\\Local\\Programs\\Python\\Python39\\lib\\site-packages\\torch\\autograd\\__init__.py:197\u001b[0m, in \u001b[0;36mbackward\u001b[1;34m(tensors, grad_tensors, retain_graph, create_graph, grad_variables, inputs)\u001b[0m\n\u001b[0;32m    192\u001b[0m     retain_graph \u001b[38;5;241m=\u001b[39m create_graph\n\u001b[0;32m    194\u001b[0m \u001b[38;5;66;03m# The reason we repeat same the comment below is that\u001b[39;00m\n\u001b[0;32m    195\u001b[0m \u001b[38;5;66;03m# some Python versions print out the first line of a multi-line function\u001b[39;00m\n\u001b[0;32m    196\u001b[0m \u001b[38;5;66;03m# calls in the traceback and some print out the last line\u001b[39;00m\n\u001b[1;32m--> 197\u001b[0m \u001b[43mVariable\u001b[49m\u001b[38;5;241;43m.\u001b[39;49m\u001b[43m_execution_engine\u001b[49m\u001b[38;5;241;43m.\u001b[39;49m\u001b[43mrun_backward\u001b[49m\u001b[43m(\u001b[49m\u001b[43m  \u001b[49m\u001b[38;5;66;43;03m# Calls into the C++ engine to run the backward pass\u001b[39;49;00m\n\u001b[0;32m    198\u001b[0m \u001b[43m    \u001b[49m\u001b[43mtensors\u001b[49m\u001b[43m,\u001b[49m\u001b[43m \u001b[49m\u001b[43mgrad_tensors_\u001b[49m\u001b[43m,\u001b[49m\u001b[43m \u001b[49m\u001b[43mretain_graph\u001b[49m\u001b[43m,\u001b[49m\u001b[43m \u001b[49m\u001b[43mcreate_graph\u001b[49m\u001b[43m,\u001b[49m\u001b[43m \u001b[49m\u001b[43minputs\u001b[49m\u001b[43m,\u001b[49m\n\u001b[0;32m    199\u001b[0m \u001b[43m    \u001b[49m\u001b[43mallow_unreachable\u001b[49m\u001b[38;5;241;43m=\u001b[39;49m\u001b[38;5;28;43;01mTrue\u001b[39;49;00m\u001b[43m,\u001b[49m\u001b[43m \u001b[49m\u001b[43maccumulate_grad\u001b[49m\u001b[38;5;241;43m=\u001b[39;49m\u001b[38;5;28;43;01mTrue\u001b[39;49;00m\u001b[43m)\u001b[49m\n",
      "\u001b[1;31mKeyboardInterrupt\u001b[0m: "
     ]
    }
   ],
   "source": [
    "# Train MLP model\n",
    "# Input dim = 412 * 233\n",
    "# Output dim = 32\n",
    "# Initial Learning Rate: 0.001\n",
    "# Max Epoch = 20\n",
    "loss_each_epoch_MLP = train_model(train_loader, clf_MLP, 0.001, 20)"
   ]
  },
  {
   "cell_type": "code",
   "execution_count": 107,
   "metadata": {
    "colab": {
     "base_uri": "https://localhost:8080/",
     "height": 295
    },
    "id": "46kEeCE4j9AP",
    "outputId": "d351e76b-4da5-456c-abd4-9c86387cd2f9"
   },
   "outputs": [
    {
     "ename": "NameError",
     "evalue": "name 'loss_each_epoch_MLP' is not defined",
     "output_type": "error",
     "traceback": [
      "\u001b[1;31m---------------------------------------------------------------------------\u001b[0m",
      "\u001b[1;31mNameError\u001b[0m                                 Traceback (most recent call last)",
      "Cell \u001b[1;32mIn [107], line 1\u001b[0m\n\u001b[1;32m----> 1\u001b[0m plt\u001b[38;5;241m.\u001b[39mplot(\u001b[38;5;28mrange\u001b[39m(\u001b[38;5;241m1\u001b[39m, \u001b[38;5;28mlen\u001b[39m(\u001b[43mloss_each_epoch_MLP\u001b[49m) \u001b[38;5;241m+\u001b[39m \u001b[38;5;241m1\u001b[39m), loss_each_epoch_MLP)\n\u001b[0;32m      2\u001b[0m plt\u001b[38;5;241m.\u001b[39mxlabel(\u001b[38;5;124m'\u001b[39m\u001b[38;5;124mEpoch\u001b[39m\u001b[38;5;124m'\u001b[39m)\n\u001b[0;32m      3\u001b[0m plt\u001b[38;5;241m.\u001b[39mylabel(\u001b[38;5;124m'\u001b[39m\u001b[38;5;124mLoss\u001b[39m\u001b[38;5;124m'\u001b[39m)\n",
      "\u001b[1;31mNameError\u001b[0m: name 'loss_each_epoch_MLP' is not defined"
     ]
    }
   ],
   "source": [
    "plt.plot(range(1, len(loss_each_epoch_MLP) + 1), loss_each_epoch_MLP)\n",
    "plt.xlabel('Epoch')\n",
    "plt.ylabel('Loss')\n",
    "plt.title('MLP-MNIST')\n",
    "plt.show()"
   ]
  },
  {
   "cell_type": "code",
   "execution_count": null,
   "metadata": {
    "colab": {
     "base_uri": "https://localhost:8080/"
    },
    "id": "IynO3NcfyT0O",
    "outputId": "fe5028d6-2a5a-4ef6-a89a-bcd0c719009f"
   },
   "outputs": [],
   "source": [
    "print('Multi Layer Perceptron (Train Accuracy)')\n",
    "model_evaluation(train_loader, clf_MLP)"
   ]
  },
  {
   "cell_type": "code",
   "execution_count": null,
   "metadata": {
    "colab": {
     "base_uri": "https://localhost:8080/"
    },
    "id": "v7izp5kKUb7q",
    "outputId": "f71e5a90-f6aa-4033-a571-c12a066f20bf"
   },
   "outputs": [],
   "source": [
    "print('Multi Layer Perceptron (Test Accuracy)')\n",
    "model_evaluation(test_loader, clf_MLP)"
   ]
  },
  {
   "cell_type": "code",
   "execution_count": null,
   "metadata": {
    "colab": {
     "base_uri": "https://localhost:8080/",
     "height": 290
    },
    "id": "t6lEF38rx5VC",
    "outputId": "41befccb-d616-4449-97c5-10064737984a"
   },
   "outputs": [],
   "source": [
    "ROW_IMG, N_ROWS = 10, 5\n",
    "\n",
    "fig = plt.figure()\n",
    "for index in range(1, ROW_IMG * N_ROWS + 1):\n",
    "    plt.subplot(N_ROWS, ROW_IMG, index)\n",
    "    plt.axis('off')\n",
    "    plt.imshow(test_dataset.data[index], cmap='gray_r')\n",
    "    \n",
    "    with torch.no_grad():\n",
    "        clf_MLP.eval()\n",
    "        X = test_dataset[index][0].reshape(test_dataset[index][0].shape[0], -1).to(device)\n",
    "        _, probs = clf_MLP(X)\n",
    "        \n",
    "    title = f'{torch.argmax(probs)} ({torch.max(probs * 100):.0f}%)'\n",
    "    \n",
    "    plt.title(title, fontsize=7)\n",
    "fig.suptitle('Multi Layer Perceptron - predictions')\n",
    "plt.show()\n",
    "plt.savefig('MLP_pred.jpg', bbox_inches='tight', pad_inches=0.1, dpi=300)"
   ]
  },
  {
   "cell_type": "markdown",
   "metadata": {
    "id": "cbzPBxBL5iHa"
   },
   "source": [
    "### Cake Classification"
   ]
  },
  {
   "cell_type": "code",
   "execution_count": null,
   "metadata": {
    "id": "AD5thU6r5tYk"
   },
   "outputs": [],
   "source": [
    "import os\n",
    "import cv2"
   ]
  },
  {
   "cell_type": "code",
   "execution_count": null,
   "metadata": {
    "id": "pAECM_R55nz4"
   },
   "outputs": [],
   "source": [
    "root_dir = '/content/drive/MyDrive/CSBU014.N11.KHBC/Logistic_Regression/images'"
   ]
  },
  {
   "cell_type": "code",
   "execution_count": null,
   "metadata": {
    "colab": {
     "base_uri": "https://localhost:8080/"
    },
    "id": "Xe-zbCvo5pqE",
    "outputId": "a6f1b68b-07fa-427a-9d2c-9758e5de4382"
   },
   "outputs": [],
   "source": [
    "list_folders = os.listdir(root_dir)\n",
    "list_folders"
   ]
  },
  {
   "cell_type": "code",
   "execution_count": null,
   "metadata": {
    "id": "3h2fvqZ85xVF"
   },
   "outputs": [],
   "source": [
    "X_cake, y_cake = [], []"
   ]
  },
  {
   "cell_type": "code",
   "execution_count": null,
   "metadata": {
    "id": "S79Iyvaf51xY"
   },
   "outputs": [],
   "source": [
    "for folder in list_folders:\n",
    "    list_image_paths = os.listdir(root_dir + '/' + folder)\n",
    "    for image_path in list_image_paths:\n",
    "        img_matrix = cv2.imread(root_dir + '/' + folder + '/' + image_path, 0)\n",
    "        X_cake.append([img_matrix])\n",
    "        y_cake.append(folder)"
   ]
  },
  {
   "cell_type": "code",
   "execution_count": null,
   "metadata": {
    "id": "1y4zagB3A1tp"
   },
   "outputs": [],
   "source": [
    "# Normalize the value of each pixel by dividing them to 255\n",
    "X_cake = np.array(X_cake)/255"
   ]
  },
  {
   "cell_type": "code",
   "execution_count": null,
   "metadata": {
    "id": "Qfz1QVEz53YS"
   },
   "outputs": [],
   "source": [
    "# Perform 'label encoding' on y\n",
    "from sklearn.preprocessing import LabelEncoder\n",
    "le = LabelEncoder()"
   ]
  },
  {
   "cell_type": "code",
   "execution_count": null,
   "metadata": {
    "id": "4n0yPrp454hH"
   },
   "outputs": [],
   "source": [
    "y_cake = le.fit_transform(y_cake)"
   ]
  },
  {
   "cell_type": "code",
   "execution_count": null,
   "metadata": {
    "id": "vhE8dtkI6C19"
   },
   "outputs": [],
   "source": [
    "from sklearn.model_selection import train_test_split"
   ]
  },
  {
   "cell_type": "code",
   "execution_count": null,
   "metadata": {
    "id": "FpRjfct0E6gA"
   },
   "outputs": [],
   "source": [
    "X_train, X_test, y_train, y_test = train_test_split(X_cake, y_cake, test_size=0.3, random_state=seed)"
   ]
  },
  {
   "cell_type": "code",
   "execution_count": null,
   "metadata": {
    "colab": {
     "base_uri": "https://localhost:8080/"
    },
    "id": "1SsPD60n7p_y",
    "outputId": "de9dd15e-c773-42f3-9f25-b0559d56efda"
   },
   "outputs": [],
   "source": [
    "print(X_train.shape)"
   ]
  },
  {
   "cell_type": "code",
   "execution_count": null,
   "metadata": {
    "id": "Bl9UXcul677_"
   },
   "outputs": [],
   "source": [
    "# Convert the data type of X_train, X_test, y_train, y_test ('List') to 'Numpy'\n",
    "X_train, X_test = np.array(X_train), np.array(X_test)\n",
    "y_train, y_test = np.array(y_train), np.array(y_test)"
   ]
  },
  {
   "cell_type": "code",
   "execution_count": null,
   "metadata": {
    "id": "A1uJHbqoZrRC"
   },
   "outputs": [],
   "source": [
    "# Convert the data type of X_train, X_test, y_train, y_test ('Numpy') to 'Tensor'\n",
    "X_train = torch.from_numpy(X_train).float()\n",
    "X_test = torch.from_numpy(X_test).float()\n",
    "y_train = torch.from_numpy(y_train)\n",
    "y_test = torch.from_numpy(y_test)"
   ]
  },
  {
   "cell_type": "code",
   "execution_count": null,
   "metadata": {
    "colab": {
     "base_uri": "https://localhost:8080/"
    },
    "id": "mft9G_RdeAUR",
    "outputId": "bfd37006-4eea-4903-9e1f-d138221c2843"
   },
   "outputs": [],
   "source": [
    "print(len(X_train))"
   ]
  },
  {
   "cell_type": "code",
   "execution_count": null,
   "metadata": {
    "id": "XPNs28vCZK-z"
   },
   "outputs": [],
   "source": [
    "from torch.utils.data import TensorDataset"
   ]
  },
  {
   "cell_type": "code",
   "execution_count": null,
   "metadata": {
    "id": "EloVm52fZI_q"
   },
   "outputs": [],
   "source": [
    "# Create train_dataset, test_dataset\n",
    "train_dataset_cake = TensorDataset(X_train, y_train)\n",
    "test_dataset_cake = TensorDataset(X_test, y_test)"
   ]
  },
  {
   "cell_type": "code",
   "execution_count": null,
   "metadata": {
    "id": "qqhdknbfPUka"
   },
   "outputs": [],
   "source": [
    "# Create train_loader, test_loader\n",
    "train_loader_cake = DataLoader(train_dataset_cake, batch_size=16, shuffle=True)\n",
    "test_loader_cake = DataLoader(test_dataset_cake)"
   ]
  },
  {
   "cell_type": "code",
   "execution_count": null,
   "metadata": {
    "colab": {
     "base_uri": "https://localhost:8080/"
    },
    "id": "tLRJxQqQov7q",
    "outputId": "3c56eff5-81b7-4df1-cb93-81edd1eb3930"
   },
   "outputs": [],
   "source": [
    "print(train_dataset_cake[0])"
   ]
  },
  {
   "cell_type": "code",
   "execution_count": null,
   "metadata": {
    "colab": {
     "base_uri": "https://localhost:8080/"
    },
    "id": "-vXZBVSqcP11",
    "outputId": "3940b320-55e2-438a-f14b-8f44614f91c8"
   },
   "outputs": [],
   "source": [
    "clf_LR_1 = LogisticRegression(input_dim=250000, output_dim=6).to(device)\n",
    "loss_each_epoch_LR_1 = train_model(train_loader_cake, clf_LR_1, 0.001, 200)"
   ]
  },
  {
   "cell_type": "code",
   "execution_count": null,
   "metadata": {
    "colab": {
     "base_uri": "https://localhost:8080/"
    },
    "id": "VHxXafl7CV8i",
    "outputId": "ff47a596-b7ca-4bf9-ee50-7abcad320ade"
   },
   "outputs": [],
   "source": [
    "clf_MLP_1 = MLP(input_dim=250000, output_dim=6).to(device)\n",
    "loss_each_epoch_MLP_1 = train_model(train_loader_cake, clf_MLP_1, 0.001, 200)"
   ]
  },
  {
   "cell_type": "code",
   "execution_count": null,
   "metadata": {
    "colab": {
     "base_uri": "https://localhost:8080/"
    },
    "id": "oWynKbHGeUL8",
    "outputId": "5b83a2aa-f316-4a80-8d0c-60ad9a039d35"
   },
   "outputs": [],
   "source": [
    "print('Logistic Regression (Train Accuracy)')\n",
    "model_evaluation(data_loader=train_loader_cake, model=clf_LR_1)"
   ]
  },
  {
   "cell_type": "code",
   "execution_count": null,
   "metadata": {
    "colab": {
     "base_uri": "https://localhost:8080/"
    },
    "id": "qAsa2zXmeVXS",
    "outputId": "2842ae68-dbcd-4fe2-f9d1-76900475342b"
   },
   "outputs": [],
   "source": [
    "print('Logistic Regression (Test Accuracy)')\n",
    "model_evaluation(data_loader=test_loader_cake, model=clf_LR_1)"
   ]
  },
  {
   "cell_type": "code",
   "execution_count": null,
   "metadata": {
    "colab": {
     "base_uri": "https://localhost:8080/"
    },
    "id": "C2QbwlkWf3Pp",
    "outputId": "372e11e8-8a57-4abc-ad1f-db679c5a5115"
   },
   "outputs": [],
   "source": [
    "print('Multi Layer Perceptron (Train Accuracy)')\n",
    "model_evaluation(train_loader_cake, clf_MLP_1)"
   ]
  },
  {
   "cell_type": "code",
   "execution_count": null,
   "metadata": {
    "colab": {
     "base_uri": "https://localhost:8080/"
    },
    "id": "J15zi6Lzf3Pp",
    "outputId": "e890e234-5520-4e9d-c2ed-8fa2e46424fc"
   },
   "outputs": [],
   "source": [
    "print('Multi Layer Perceptron (Test Accuracy)')\n",
    "model_evaluation(test_loader_cake, clf_MLP_1)"
   ]
  },
  {
   "cell_type": "code",
   "execution_count": null,
   "metadata": {
    "colab": {
     "base_uri": "https://localhost:8080/",
     "height": 279
    },
    "id": "nxa7Lp5WEk25",
    "outputId": "cafc1c77-4496-44b4-d78b-f7bf1016b2a6"
   },
   "outputs": [],
   "source": [
    "plt.plot(range(1, len(loss_each_epoch_MLP_1) + 1), loss_each_epoch_MLP_1)\n",
    "plt.xlabel('Epoch')\n",
    "plt.ylabel('Loss')\n",
    "plt.show()"
   ]
  }
 ],
 "metadata": {
  "accelerator": "GPU",
  "colab": {
   "collapsed_sections": [
    "cbzPBxBL5iHa"
   ],
   "provenance": []
  },
  "gpuClass": "standard",
  "kernelspec": {
   "display_name": "Python 3 (ipykernel)",
   "language": "python",
   "name": "python3"
  },
  "language_info": {
   "codemirror_mode": {
    "name": "ipython",
    "version": 3
   },
   "file_extension": ".py",
   "mimetype": "text/x-python",
   "name": "python",
   "nbconvert_exporter": "python",
   "pygments_lexer": "ipython3",
   "version": "3.9.13"
  }
 },
 "nbformat": 4,
 "nbformat_minor": 1
}
